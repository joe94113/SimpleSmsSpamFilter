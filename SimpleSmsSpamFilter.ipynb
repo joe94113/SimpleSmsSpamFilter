{
  "nbformat": 4,
  "nbformat_minor": 0,
  "metadata": {
    "colab": {
      "name": "SimpleSmsSpamFilter.ipynb",
      "provenance": [],
      "collapsed_sections": [],
      "authorship_tag": "ABX9TyMDeSJOfC6o67c07IgHrwE/",
      "include_colab_link": true
    },
    "kernelspec": {
      "name": "python3",
      "display_name": "Python 3"
    }
  },
  "cells": [
    {
      "cell_type": "markdown",
      "metadata": {
        "id": "view-in-github",
        "colab_type": "text"
      },
      "source": [
        "<a href=\"https://colab.research.google.com/github/joe94113/SimpleSmsSpamFilter/blob/main/SimpleSmsSpamFilter.ipynb\" target=\"_parent\"><img src=\"https://colab.research.google.com/assets/colab-badge.svg\" alt=\"Open In Colab\"/></a>"
      ]
    },
    {
      "cell_type": "code",
      "metadata": {
        "colab": {
          "base_uri": "https://localhost:8080/"
        },
        "id": "woxEhwLrTq_d",
        "outputId": "9190bdb3-dff0-45a4-bfa6-9ae2f0ecd97c"
      },
      "source": [
        "# connect to google drive\r\n",
        "# Data Link:http://www.dt.fee.unicamp.br/~tiago/smsspamcollection/\r\n",
        "from google.colab import drive\r\n",
        "drive.mount(\"/content/drive\")"
      ],
      "execution_count": 24,
      "outputs": [
        {
          "output_type": "stream",
          "text": [
            "Drive already mounted at /content/drive; to attempt to forcibly remount, call drive.mount(\"/content/drive\", force_remount=True).\n"
          ],
          "name": "stdout"
        }
      ]
    },
    {
      "cell_type": "code",
      "metadata": {
        "id": "GHSoED5BVNp5"
      },
      "source": [
        "data_file = \"/content/drive/MyDrive/Colab Notebooks/SMSSpamCollection.txt\""
      ],
      "execution_count": 25,
      "outputs": []
    },
    {
      "cell_type": "code",
      "metadata": {
        "colab": {
          "base_uri": "https://localhost:8080/",
          "height": 202
        },
        "id": "A9FPomZqVgPF",
        "outputId": "25e75b46-3a71-411f-9577-56e6dfcdd904"
      },
      "source": [
        "import pandas as pd\r\n",
        "\r\n",
        "data = pd.read_csv(data_file, sep = \"\\t\", header=None, names=[\"label\", \"sms\"])\r\n",
        "data.head()"
      ],
      "execution_count": 26,
      "outputs": [
        {
          "output_type": "execute_result",
          "data": {
            "text/html": [
              "<div>\n",
              "<style scoped>\n",
              "    .dataframe tbody tr th:only-of-type {\n",
              "        vertical-align: middle;\n",
              "    }\n",
              "\n",
              "    .dataframe tbody tr th {\n",
              "        vertical-align: top;\n",
              "    }\n",
              "\n",
              "    .dataframe thead th {\n",
              "        text-align: right;\n",
              "    }\n",
              "</style>\n",
              "<table border=\"1\" class=\"dataframe\">\n",
              "  <thead>\n",
              "    <tr style=\"text-align: right;\">\n",
              "      <th></th>\n",
              "      <th>label</th>\n",
              "      <th>sms</th>\n",
              "    </tr>\n",
              "  </thead>\n",
              "  <tbody>\n",
              "    <tr>\n",
              "      <th>0</th>\n",
              "      <td>ham</td>\n",
              "      <td>Go until jurong point, crazy.. Available only ...</td>\n",
              "    </tr>\n",
              "    <tr>\n",
              "      <th>1</th>\n",
              "      <td>ham</td>\n",
              "      <td>Ok lar... Joking wif u oni...</td>\n",
              "    </tr>\n",
              "    <tr>\n",
              "      <th>2</th>\n",
              "      <td>spam</td>\n",
              "      <td>Free entry in 2 a wkly comp to win FA Cup fina...</td>\n",
              "    </tr>\n",
              "    <tr>\n",
              "      <th>3</th>\n",
              "      <td>ham</td>\n",
              "      <td>U dun say so early hor... U c already then say...</td>\n",
              "    </tr>\n",
              "    <tr>\n",
              "      <th>4</th>\n",
              "      <td>ham</td>\n",
              "      <td>Nah I don't think he goes to usf, he lives aro...</td>\n",
              "    </tr>\n",
              "  </tbody>\n",
              "</table>\n",
              "</div>"
            ],
            "text/plain": [
              "  label                                                sms\n",
              "0   ham  Go until jurong point, crazy.. Available only ...\n",
              "1   ham                      Ok lar... Joking wif u oni...\n",
              "2  spam  Free entry in 2 a wkly comp to win FA Cup fina...\n",
              "3   ham  U dun say so early hor... U c already then say...\n",
              "4   ham  Nah I don't think he goes to usf, he lives aro..."
            ]
          },
          "metadata": {
            "tags": []
          },
          "execution_count": 26
        }
      ]
    },
    {
      "cell_type": "code",
      "metadata": {
        "colab": {
          "base_uri": "https://localhost:8080/"
        },
        "id": "ys7Gz6rlW4Hn",
        "outputId": "4bd7d245-80ab-472d-a8fc-da39ef502b1b"
      },
      "source": [
        "# load stopwords and punctuation\r\n",
        "\r\n",
        "import string\r\n",
        "import nltk\r\n",
        "nltk.download(\"stopwords\")\r\n",
        "nltk.download(\"punkt\")\r\n",
        "\r\n",
        "# english 停用詞\r\n",
        "stopwords = nltk.corpus.stopwords.words(\"english\")\r\n",
        "# 標點符號\r\n",
        "punctuation = string.punctuation\r\n",
        "print(stopwords[:5])\r\n",
        "print(punctuation)"
      ],
      "execution_count": 30,
      "outputs": [
        {
          "output_type": "stream",
          "text": [
            "[nltk_data] Downloading package stopwords to /root/nltk_data...\n",
            "[nltk_data]   Package stopwords is already up-to-date!\n",
            "[nltk_data] Downloading package punkt to /root/nltk_data...\n",
            "[nltk_data]   Package punkt is already up-to-date!\n",
            "['i', 'me', 'my', 'myself', 'we']\n",
            "!\"#$%&'()*+,-./:;<=>?@[\\]^_`{|}~\n"
          ],
          "name": "stdout"
        }
      ]
    },
    {
      "cell_type": "code",
      "metadata": {
        "colab": {
          "base_uri": "https://localhost:8080/",
          "height": 271
        },
        "id": "yksc3uSm1kvf",
        "outputId": "33650cdb-e48f-47be-b2b2-2c51a8e2c847"
      },
      "source": [
        "# pre-process sms content\r\n",
        "def pre_process(sms):\r\n",
        "  # 把字符都變成小寫，以及去除標點符號\r\n",
        "  lowercase = \"\".join([char.lower() for char in sms if char not in punctuation])\r\n",
        "  # remove_punct = \"\".join([char for char in sms if char not in punctuation])\r\n",
        "  # 使用word_tokenize斷詞\r\n",
        "  tokenize = nltk.tokenize.word_tokenize(lowercase)\r\n",
        "  remove_stopwords = [word for word in tokenize if word not in stopwords]\r\n",
        "  return remove_stopwords\r\n",
        "data[\"processed\"] = data[\"sms\"].apply(lambda x :pre_process(x))\r\n",
        "data.head()"
      ],
      "execution_count": 42,
      "outputs": [
        {
          "output_type": "execute_result",
          "data": {
            "text/html": [
              "<div>\n",
              "<style scoped>\n",
              "    .dataframe tbody tr th:only-of-type {\n",
              "        vertical-align: middle;\n",
              "    }\n",
              "\n",
              "    .dataframe tbody tr th {\n",
              "        vertical-align: top;\n",
              "    }\n",
              "\n",
              "    .dataframe thead th {\n",
              "        text-align: right;\n",
              "    }\n",
              "</style>\n",
              "<table border=\"1\" class=\"dataframe\">\n",
              "  <thead>\n",
              "    <tr style=\"text-align: right;\">\n",
              "      <th></th>\n",
              "      <th>label</th>\n",
              "      <th>sms</th>\n",
              "      <th>processed</th>\n",
              "    </tr>\n",
              "  </thead>\n",
              "  <tbody>\n",
              "    <tr>\n",
              "      <th>0</th>\n",
              "      <td>ham</td>\n",
              "      <td>Go until jurong point, crazy.. Available only ...</td>\n",
              "      <td>[go, jurong, point, crazy, available, bugis, n...</td>\n",
              "    </tr>\n",
              "    <tr>\n",
              "      <th>1</th>\n",
              "      <td>ham</td>\n",
              "      <td>Ok lar... Joking wif u oni...</td>\n",
              "      <td>[ok, lar, joking, wif, u, oni]</td>\n",
              "    </tr>\n",
              "    <tr>\n",
              "      <th>2</th>\n",
              "      <td>spam</td>\n",
              "      <td>Free entry in 2 a wkly comp to win FA Cup fina...</td>\n",
              "      <td>[free, entry, 2, wkly, comp, win, fa, cup, fin...</td>\n",
              "    </tr>\n",
              "    <tr>\n",
              "      <th>3</th>\n",
              "      <td>ham</td>\n",
              "      <td>U dun say so early hor... U c already then say...</td>\n",
              "      <td>[u, dun, say, early, hor, u, c, already, say]</td>\n",
              "    </tr>\n",
              "    <tr>\n",
              "      <th>4</th>\n",
              "      <td>ham</td>\n",
              "      <td>Nah I don't think he goes to usf, he lives aro...</td>\n",
              "      <td>[nah, dont, think, goes, usf, lives, around, t...</td>\n",
              "    </tr>\n",
              "  </tbody>\n",
              "</table>\n",
              "</div>"
            ],
            "text/plain": [
              "  label  ...                                          processed\n",
              "0   ham  ...  [go, jurong, point, crazy, available, bugis, n...\n",
              "1   ham  ...                     [ok, lar, joking, wif, u, oni]\n",
              "2  spam  ...  [free, entry, 2, wkly, comp, win, fa, cup, fin...\n",
              "3   ham  ...      [u, dun, say, early, hor, u, c, already, say]\n",
              "4   ham  ...  [nah, dont, think, goes, usf, lives, around, t...\n",
              "\n",
              "[5 rows x 3 columns]"
            ]
          },
          "metadata": {
            "tags": []
          },
          "execution_count": 42
        }
      ]
    },
    {
      "cell_type": "code",
      "metadata": {
        "colab": {
          "base_uri": "https://localhost:8080/"
        },
        "id": "3u2q_T639rBa",
        "outputId": "fecb6968-ed83-4698-8768-e2f236228722"
      },
      "source": [
        "# categorizing ham/spam associated words\r\n",
        "\r\n",
        "def categorize_words():\r\n",
        "  spam_words = []\r\n",
        "  ham_words = []\r\n",
        "\r\n",
        "  # spam associated words\r\n",
        "  for sms in data[\"processed\"][data[\"label\"] == \"spam\"]:\r\n",
        "    for word in sms:\r\n",
        "      spam_words.append(word)\r\n",
        "\r\n",
        "  # ham associated words\r\n",
        "  for sms in data[\"processed\"][data[\"label\"] == \"ham\"]:\r\n",
        "    for word in sms:\r\n",
        "      ham_words.append(word)\r\n",
        "  \r\n",
        "  return spam_words, ham_words\r\n",
        "\r\n",
        "spam_words, ham_words = categorize_words()\r\n",
        "print(spam_words[:5])\r\n",
        "print(ham_words[:5])"
      ],
      "execution_count": 43,
      "outputs": [
        {
          "output_type": "stream",
          "text": [
            "['free', 'entry', '2', 'wkly', 'comp']\n",
            "['go', 'jurong', 'point', 'crazy', 'available']\n"
          ],
          "name": "stdout"
        }
      ]
    },
    {
      "cell_type": "code",
      "metadata": {
        "id": "BhwJ8S1fPsoU"
      },
      "source": [
        "# itterate over all the words from the user input and count their occurances in both ham_words and spam_words\r\n",
        "\r\n",
        "def predict(user_inout):\r\n",
        "  spam_counter = 0\r\n",
        "  ham_counter = 0\r\n",
        "\r\n",
        "  for word in user_input:\r\n",
        "    spam_counter += spam_words.count(word)\r\n",
        "    ham_counter += ham_words.count(word)\r\n",
        "  print(\"-------------------*result*--------------------\")\r\n",
        "  if ham_counter > spam_counter:\r\n",
        "    # adding accuracy\r\n",
        "    # 顯示到小數點後兩位\r\n",
        "    accuracy = round((ham_counter / (ham_counter+spam_counter)) * 100, 2)\r\n",
        "    print(f\"message is not spam, with {accuracy} accuracy\")\r\n",
        "  elif spam_counter > ham_counter:\r\n",
        "    accuracy = round((spam_counter / (ham_counter+spam_counter)) * 100, 2)\r\n",
        "    print(f\"message is spam, with {accuracy} accuracy\")\r\n",
        "  else:\r\n",
        "    print(\"message could be spam, with 50% accuracy\")"
      ],
      "execution_count": 59,
      "outputs": []
    },
    {
      "cell_type": "code",
      "metadata": {
        "colab": {
          "base_uri": "https://localhost:8080/"
        },
        "id": "IfeFzJCnUuqi",
        "outputId": "10803ff1-4cea-403c-c272-6aea3f9f37a7"
      },
      "source": [
        "# collect uer input\r\n",
        "\r\n",
        "user_input = input(\"please type a spam or ham message to check if our funtion predicts properly\\n\")"
      ],
      "execution_count": 57,
      "outputs": [
        {
          "output_type": "stream",
          "text": [
            "please type a spam or ham message to check if our funtion predicts properly\n",
            "i am handsome\n"
          ],
          "name": "stdout"
        }
      ]
    },
    {
      "cell_type": "code",
      "metadata": {
        "colab": {
          "base_uri": "https://localhost:8080/"
        },
        "id": "yS87mUOHVXlA",
        "outputId": "3f31a6da-c8c7-4809-c543-89fec9f41cd1"
      },
      "source": [
        "processed_input = pre_process(user_input)\r\n",
        "predict(processed_input)"
      ],
      "execution_count": 60,
      "outputs": [
        {
          "output_type": "stream",
          "text": [
            "-------------------*result*--------------------\n",
            "message is not spam, with 93.59 accuracy\n"
          ],
          "name": "stdout"
        }
      ]
    }
  ]
}